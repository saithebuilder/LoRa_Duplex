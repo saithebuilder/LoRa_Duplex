{
 "cells": [
  {
   "cell_type": "code",
   "execution_count": 1,
   "metadata": {},
   "outputs": [
    {
     "name": "stdout",
     "output_type": "stream",
     "text": [
      "[('P', 3), ('S', 2), ('A', 1), ('H', 1), ('I', 1), ('L', 1), ('V', 1), ('B', 0), ('C', 0), ('D', 0), ('E', 0), ('F', 0), ('G', 0), ('J', 0), ('K', 0), ('M', 0), ('N', 0), ('O', 0), ('Q', 0), ('R', 0), ('T', 0), ('U', 0), ('W', 0), ('X', 0), ('Y', 0), ('Z', 0)]\n"
     ]
    }
   ],
   "source": [
    "from collections import defaultdict\n",
    "from operator import itemgetter\n",
    "\n",
    "Letters = \"ABCDEFGHIJKLMNOPQRSTUVWXYZ\"\n",
    "\n",
    "Ciphertext = \"LIPPS ASVPH\" \n",
    "\n",
    "def LetterFrequency():\n",
    "    LetterFrequency = {letter: 0 for letter in Letters}\n",
    "    for letter in Ciphertext.upper():\n",
    "        if letter in Letters:\n",
    "            LetterFrequency[letter]+=1\n",
    "    return LetterFrequency\n",
    "\n",
    "def sort_dict(dct):\n",
    "    return sorted(dct.items(), key = itemgetter(1), reverse = True)\n",
    "\n",
    "print(sort_dict(LetterFrequency()))"
   ]
  },
  {
   "cell_type": "code",
   "execution_count": null,
   "metadata": {},
   "outputs": [],
   "source": []
  }
 ],
 "metadata": {
  "kernelspec": {
   "display_name": "Python 3.8.10 64-bit",
   "language": "python",
   "name": "python3"
  },
  "language_info": {
   "codemirror_mode": {
    "name": "ipython",
    "version": 3
   },
   "file_extension": ".py",
   "mimetype": "text/x-python",
   "name": "python",
   "nbconvert_exporter": "python",
   "pygments_lexer": "ipython3",
   "version": "3.8.10"
  },
  "orig_nbformat": 4,
  "vscode": {
   "interpreter": {
    "hash": "e7370f93d1d0cde622a1f8e1c04877d8463912d04d973331ad4851f04de6915a"
   }
  }
 },
 "nbformat": 4,
 "nbformat_minor": 2
}

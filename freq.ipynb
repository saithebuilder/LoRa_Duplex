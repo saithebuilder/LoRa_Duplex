{
 "cells": [
  {
   "cell_type": "code",
   "execution_count": 4,
   "metadata": {},
   "outputs": [
    {
     "name": "stdout",
     "output_type": "stream",
     "text": [
      "[('I', 12), ('E', 11), ('V', 7), ('X', 6), ('R', 5), ('L', 4), ('P', 4), ('S', 4), ('W', 4), ('Y', 4), ('H', 3), ('M', 3), ('K', 2), ('T', 2), ('Z', 2), ('C', 1), ('F', 1), ('G', 1), ('J', 1), ('O', 1), ('Q', 1), ('A', 0), ('B', 0), ('D', 0), ('N', 0), ('U', 0)]\n"
     ]
    }
   ],
   "source": [
    "from collections import defaultdict\n",
    "from operator import itemgetter\n",
    "\n",
    "Letters = \"ABCDEFGHIJKLMNOPQRSTUVWXYZ\"\n",
    "\n",
    "Ciphertext = \"LIVITCSWPIYVEWHEVSRIQMXLEYVEOIEWHRXEXIPFEMVEWHKVSTYLXZIXLIKIIXPIJVSZEYPERRGERIM\" \n",
    "\n",
    "def LetterFrequency():\n",
    "    LetterFrequency = {letter: 0 for letter in Letters}\n",
    "    for letter in Ciphertext.upper():\n",
    "        if letter in Letters:\n",
    "            LetterFrequency[letter]+=1\n",
    "    return LetterFrequency\n",
    "\n",
    "def sort_dict(dct):\n",
    "    return sorted(dct.items(), key = itemgetter(1), reverse = True)\n",
    "\n",
    "print(sort_dict(LetterFrequency()))"
   ]
  }
 ],
 "metadata": {
  "kernelspec": {
   "display_name": "Python 3.8.10 64-bit",
   "language": "python",
   "name": "python3"
  },
  "language_info": {
   "codemirror_mode": {
    "name": "ipython",
    "version": 3
   },
   "file_extension": ".py",
   "mimetype": "text/x-python",
   "name": "python",
   "nbconvert_exporter": "python",
   "pygments_lexer": "ipython3",
   "version": "3.8.10"
  },
  "orig_nbformat": 4,
  "vscode": {
   "interpreter": {
    "hash": "e7370f93d1d0cde622a1f8e1c04877d8463912d04d973331ad4851f04de6915a"
   }
  }
 },
 "nbformat": 4,
 "nbformat_minor": 2
}

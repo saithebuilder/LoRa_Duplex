{
 "cells": [
  {
   "cell_type": "code",
   "execution_count": 2,
   "metadata": {},
   "outputs": [
    {
     "name": "stdout",
     "output_type": "stream",
     "text": [
      "Key #0: LIPPS ASVPH\n",
      "Key #1: KHOOR ZRUOG\n",
      "Key #2: JGNNQ YQTNF\n",
      "Key #3: IFMMP XPSME\n",
      "Key #4: HELLO WORLD\n",
      "Key #5: GDKKN VNQKC\n",
      "Key #6: FCJJM UMPJB\n",
      "Key #7: EBIIL TLOIA\n",
      "Key #8: DAHHK SKNHZ\n",
      "Key #9: CZGGJ RJMGY\n",
      "Key #10: BYFFI QILFX\n",
      "Key #11: AXEEH PHKEW\n",
      "Key #12: ZWDDG OGJDV\n",
      "Key #13: YVCCF NFICU\n",
      "Key #14: XUBBE MEHBT\n",
      "Key #15: WTAAD LDGAS\n",
      "Key #16: VSZZC KCFZR\n",
      "Key #17: URYYB JBEYQ\n",
      "Key #18: TQXXA IADXP\n",
      "Key #19: SPWWZ HZCWO\n",
      "Key #20: ROVVY GYBVN\n",
      "Key #21: QNUUX FXAUM\n",
      "Key #22: PMTTW EWZTL\n",
      "Key #23: OLSSV DVYSK\n",
      "Key #24: NKRRU CUXRJ\n",
      "Key #25: MJQQT BTWQI\n"
     ]
    }
   ],
   "source": [
    "message = 'LIPPS ASVPH'\n",
    "LETTERS = 'ABCDEFGHIJKLMNOPQRSTUVWXYZ'\n",
    "\n",
    "for key in range(len(LETTERS)):\n",
    "  \n",
    "    translated = ''\n",
    "   \n",
    "    for symbol in message:\n",
    "        if symbol in LETTERS:\n",
    "            num = LETTERS.find(symbol)  \n",
    "            num = num - key\n",
    "\n",
    "            if num < 0:\n",
    "                num = num + len(LETTERS)\n",
    "            translated = translated + LETTERS[num]\n",
    "        else:\n",
    "            translated = translated + symbol\n",
    "\n",
    "    print('Key #%s: %s' % (key, translated))\n"
   ]
  },
  {
   "cell_type": "code",
   "execution_count": null,
   "metadata": {},
   "outputs": [],
   "source": []
  }
 ],
 "metadata": {
  "kernelspec": {
   "display_name": "Python 3.8.10 64-bit",
   "language": "python",
   "name": "python3"
  },
  "language_info": {
   "codemirror_mode": {
    "name": "ipython",
    "version": 3
   },
   "file_extension": ".py",
   "mimetype": "text/x-python",
   "name": "python",
   "nbconvert_exporter": "python",
   "pygments_lexer": "ipython3",
   "version": "3.8.10"
  },
  "orig_nbformat": 4,
  "vscode": {
   "interpreter": {
    "hash": "e7370f93d1d0cde622a1f8e1c04877d8463912d04d973331ad4851f04de6915a"
   }
  }
 },
 "nbformat": 4,
 "nbformat_minor": 2
}

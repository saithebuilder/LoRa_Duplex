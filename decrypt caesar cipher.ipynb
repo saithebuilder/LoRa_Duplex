{
 "cells": [
  {
   "cell_type": "code",
   "execution_count": 1,
   "metadata": {},
   "outputs": [
    {
     "name": "stdout",
     "output_type": "stream",
     "text": [
      "plain text : HELLO WORLD\n"
     ]
    }
   ],
   "source": [
    " \n",
    "import string\n",
    " \n",
    "all_letters= string.ascii_uppercase\n",
    "  \n",
    "     \n",
    "dict1 = {}\n",
    "key = 4\n",
    "  \n",
    "for i in range(len(all_letters)):\n",
    "    dict1[all_letters[i]] = all_letters[(i+key)%len(all_letters)]\n",
    "  \n",
    "  \n",
    "cipher_txt=[]\n",
    "         \n",
    "cipher_txt= \"LIPPS ASVPH\"\n",
    "\n",
    "     \n",
    "dict2 = {}    \n",
    "for i in range(len(all_letters)):\n",
    "    dict2[all_letters[i]] = all_letters[(i-key)%(len(all_letters))]\n",
    "      \n",
    "decrypt_txt = []\n",
    " \n",
    "for char in cipher_txt:\n",
    "    if char in all_letters:\n",
    "        temp = dict2[char]\n",
    "        decrypt_txt.append(temp)\n",
    "    else:\n",
    "        temp = char\n",
    "        decrypt_txt.append(temp)\n",
    "         \n",
    "decrypt_txt = \"\".join(decrypt_txt)\n",
    "print(\"plain text :\", decrypt_txt)"
   ]
  },
  {
   "cell_type": "code",
   "execution_count": null,
   "metadata": {},
   "outputs": [],
   "source": []
  }
 ],
 "metadata": {
  "kernelspec": {
   "display_name": "Python 3.8.10 64-bit",
   "language": "python",
   "name": "python3"
  },
  "language_info": {
   "codemirror_mode": {
    "name": "ipython",
    "version": 3
   },
   "file_extension": ".py",
   "mimetype": "text/x-python",
   "name": "python",
   "nbconvert_exporter": "python",
   "pygments_lexer": "ipython3",
   "version": "3.8.10"
  },
  "orig_nbformat": 4,
  "vscode": {
   "interpreter": {
    "hash": "e7370f93d1d0cde622a1f8e1c04877d8463912d04d973331ad4851f04de6915a"
   }
  }
 },
 "nbformat": 4,
 "nbformat_minor": 2
}
